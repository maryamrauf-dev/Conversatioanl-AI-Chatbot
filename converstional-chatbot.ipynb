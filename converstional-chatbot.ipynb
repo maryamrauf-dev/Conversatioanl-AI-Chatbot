{
 "cells": [
  {
   "cell_type": "code",
   "execution_count": null,
   "id": "74c2ab39-5514-48a2-bca7-02bf0b9328ee",
   "metadata": {},
   "outputs": [],
   "source": [
    "import openai \n",
    "from openai import OpenAI\n",
    "\n",
    "api_key = \"your api key here\"\n",
    "\n",
    "openai.api_key = api_key"
   ]
  },
  {
   "cell_type": "code",
   "execution_count": null,
   "id": "fd9ed557-8acd-4f4e-98b6-70314c0081cc",
   "metadata": {},
   "outputs": [],
   "source": [
    "client =OpenAI(api_key=\"your api key here\")\n",
    "def generate_response(prompt):\n",
    "    response = client.chat.completions.create(\n",
    "        model=\"gpt-4o-mini\",   # modern model\n",
    "        messages=[\n",
    "            {\"role\": \"system\", \"content\": prompt},\n",
    "            {\"role\": \"user\", \"content\" : msg}\n",
    "            #{\"role\" : \"asistant\" ,\"content\" : previous model response} \n",
    "        ],\n",
    "        max_tokens=100,\n",
    "        temperature=0.7\n",
    "    )\n",
    "    return response.choices[0].message.content.strip()\n",
    "msg=\"c++\"\n",
    "prompt = \"you are coder\"\n",
    "generated_text = generate_response(prompt)\n",
    "print(generated_text)"
   ]
  },
  {
   "cell_type": "code",
   "execution_count": null,
   "id": "914fda8c-29a0-44d9-9a90-78e566f64920",
   "metadata": {},
   "outputs": [],
   "source": [
    "def generate_response(prompt):\n",
    "    response = openai.ChatCompletion.create(\n",
    "        model=\"gpt-4o-mini\",   # modern model\n",
    "        messages=[\n",
    "            {\"role\": \"system\", \"content\": prompt},\n",
    "            {\"role\": \"user\", \"content\" : msg}\n",
    "            #{\"role\" : \"asistant\" ,\"content\" : previous model response} \n",
    "        ],\n",
    "        max_tokens=100,\n",
    "        temperature=0.7\n",
    "    )\n",
    "    return response[\"choices\"][0][\"message\"][\"content\"].strip()\n",
    "\n",
    "msg=\"The Thirsty Crow is a classic fable about a clever crow who uses its ingenuity to solve a problem. The story teaches the importance of persistence, resourcefulness, and using one's mind to overcome obstacles.\"\n",
    "prompt = \"you will provided with a block of message and you will extarct keywords from it\"\n",
    "generated_text = generate_response(prompt)\n",
    "print(generated_text)\n"
   ]
  },
  {
   "cell_type": "code",
   "execution_count": null,
   "id": "a84f656e-f3fe-474b-ba2f-84124b5c51d9",
   "metadata": {},
   "outputs": [],
   "source": [
    "def generate_response(prompt):\n",
    "    response = openai.ChatCompletion.create(\n",
    "        model=\"gpt-4o-mini\",   # modern model\n",
    "        messages=[\n",
    "            {\"role\": \"system\", \"content\": prompt},\n",
    "            {\"role\": \"user\", \"content\" : msg}\n",
    "            #{\"role\" : \"asistant\" ,\"content\" : previous model response} \n",
    "        ],\n",
    "        max_tokens=100,\n",
    "        temperature=0.7\n",
    "    )\n",
    "    return response[\"choices\"][0][\"message\"][\"content\"].strip()\n",
    "\n",
    "msg=\"why you like me \"\n",
    "prompt = \"you are poetic chatbot\"\n",
    "generated_text = generate_response(prompt)\n",
    "print(generated_text)\n"
   ]
  },
  {
   "cell_type": "code",
   "execution_count": null,
   "id": "a0836ee1-85fc-42da-afc3-32dec0cd7228",
   "metadata": {},
   "outputs": [],
   "source": [
    "from transformers import pipeline\n",
    "\n",
    "nlp=pipeline(\"sentiment-analysis\")\n",
    "\n",
    "text=\"i love using nlp for my llm projects\"\n",
    "result=nlp(text)\n",
    "result\n",
    "\n",
    "nlp0=pipeline(\"zero-shot-classification\",model=\"facebook/bart-large-mnli\")\n",
    "\n",
    "travel=\"one day i will travel the whole world\"\n",
    "labels= [\"cooking\",\"dancing\",\"travel\"]\n",
    "result=nlp0(travel,labels)\n",
    "result\n",
    "\n"
   ]
  }
 ],
 "metadata": {
  "kernelspec": {
   "display_name": "llms_course_env",
   "language": "python",
   "name": "llms_course_env"
  },
  "language_info": {
   "codemirror_mode": {
    "name": "ipython",
    "version": 3
   },
   "file_extension": ".py",
   "mimetype": "text/x-python",
   "name": "python",
   "nbconvert_exporter": "python",
   "pygments_lexer": "ipython3",
   "version": "3.11.13"
  }
 },
 "nbformat": 4,
 "nbformat_minor": 5
}
